{
 "cells": [
  {
   "cell_type": "code",
   "execution_count": 1,
   "metadata": {},
   "outputs": [],
   "source": [
    "%matplotlib inline\n",
    "import matplotlib.pyplot as plt\n",
    "import numpy as np\n",
    "import pandas as pd"
   ]
  },
  {
   "cell_type": "code",
   "execution_count": 2,
   "metadata": {},
   "outputs": [
    {
     "data": {
      "text/html": [
       "<div>\n",
       "<style scoped>\n",
       "    .dataframe tbody tr th:only-of-type {\n",
       "        vertical-align: middle;\n",
       "    }\n",
       "\n",
       "    .dataframe tbody tr th {\n",
       "        vertical-align: top;\n",
       "    }\n",
       "\n",
       "    .dataframe thead th {\n",
       "        text-align: right;\n",
       "    }\n",
       "</style>\n",
       "<table border=\"1\" class=\"dataframe\">\n",
       "  <thead>\n",
       "    <tr style=\"text-align: right;\">\n",
       "      <th></th>\n",
       "      <th>Activity Type</th>\n",
       "      <th>Date</th>\n",
       "      <th>Title</th>\n",
       "      <th>Distance</th>\n",
       "      <th>Calories</th>\n",
       "      <th>Time</th>\n",
       "      <th>Avg HR</th>\n",
       "      <th>Max HR</th>\n",
       "      <th>Aerobic TE</th>\n",
       "      <th>Avg Run Cadence</th>\n",
       "      <th>Max Run Cadence</th>\n",
       "      <th>Avg Pace</th>\n",
       "      <th>Best Pace</th>\n",
       "      <th>Elev Gain</th>\n",
       "      <th>Elev Loss</th>\n",
       "      <th>Avg Stride Length</th>\n",
       "      <th>Climb Time</th>\n",
       "      <th>Min Temp</th>\n",
       "      <th>Best Lap Time</th>\n",
       "      <th>Number of Laps</th>\n",
       "    </tr>\n",
       "  </thead>\n",
       "  <tbody>\n",
       "    <tr>\n",
       "      <th>0</th>\n",
       "      <td>Running</td>\n",
       "      <td>10/29/2020 14:50</td>\n",
       "      <td>Park County Running</td>\n",
       "      <td>1.02</td>\n",
       "      <td>183</td>\n",
       "      <td>0:39:41</td>\n",
       "      <td>96</td>\n",
       "      <td>127</td>\n",
       "      <td>1.0</td>\n",
       "      <td>49</td>\n",
       "      <td>158</td>\n",
       "      <td>39:03:00</td>\n",
       "      <td>3:14</td>\n",
       "      <td>276</td>\n",
       "      <td>259</td>\n",
       "      <td>0.83</td>\n",
       "      <td>39:41:00</td>\n",
       "      <td>64.4</td>\n",
       "      <td>00:02.5</td>\n",
       "      <td>2</td>\n",
       "    </tr>\n",
       "    <tr>\n",
       "      <th>1</th>\n",
       "      <td>Running</td>\n",
       "      <td>10/29/2020 13:34</td>\n",
       "      <td>Park County Running</td>\n",
       "      <td>0.72</td>\n",
       "      <td>137</td>\n",
       "      <td>0:31:13</td>\n",
       "      <td>91</td>\n",
       "      <td>117</td>\n",
       "      <td>0.6</td>\n",
       "      <td>40</td>\n",
       "      <td>162</td>\n",
       "      <td>43:33:00</td>\n",
       "      <td>12:53</td>\n",
       "      <td>105</td>\n",
       "      <td>62</td>\n",
       "      <td>0.91</td>\n",
       "      <td>31:13:00</td>\n",
       "      <td>68.0</td>\n",
       "      <td>31:13.0</td>\n",
       "      <td>1</td>\n",
       "    </tr>\n",
       "    <tr>\n",
       "      <th>2</th>\n",
       "      <td>Running</td>\n",
       "      <td>10/27/2020 10:34</td>\n",
       "      <td>Grand County Running</td>\n",
       "      <td>2.01</td>\n",
       "      <td>224</td>\n",
       "      <td>0:35:41</td>\n",
       "      <td>110</td>\n",
       "      <td>138</td>\n",
       "      <td>1.7</td>\n",
       "      <td>91</td>\n",
       "      <td>250</td>\n",
       "      <td>17:46</td>\n",
       "      <td>5:22</td>\n",
       "      <td>217</td>\n",
       "      <td>207</td>\n",
       "      <td>1.00</td>\n",
       "      <td>35:41:00</td>\n",
       "      <td>66.2</td>\n",
       "      <td>00:06.0</td>\n",
       "      <td>3</td>\n",
       "    </tr>\n",
       "    <tr>\n",
       "      <th>3</th>\n",
       "      <td>Running</td>\n",
       "      <td>10/26/2020 15:12</td>\n",
       "      <td>San Juan County Running</td>\n",
       "      <td>1.89</td>\n",
       "      <td>259</td>\n",
       "      <td>0:50:17</td>\n",
       "      <td>104</td>\n",
       "      <td>129</td>\n",
       "      <td>0.9</td>\n",
       "      <td>71</td>\n",
       "      <td>225</td>\n",
       "      <td>26:38:00</td>\n",
       "      <td>13:49</td>\n",
       "      <td>213</td>\n",
       "      <td>184</td>\n",
       "      <td>0.86</td>\n",
       "      <td>50:17:00</td>\n",
       "      <td>66.2</td>\n",
       "      <td>22:53.0</td>\n",
       "      <td>2</td>\n",
       "    </tr>\n",
       "    <tr>\n",
       "      <th>4</th>\n",
       "      <td>Running</td>\n",
       "      <td>10/25/2020 11:27</td>\n",
       "      <td>Garfield County Running</td>\n",
       "      <td>8.43</td>\n",
       "      <td>1251</td>\n",
       "      <td>3:01:06</td>\n",
       "      <td>130</td>\n",
       "      <td>178</td>\n",
       "      <td>3.7</td>\n",
       "      <td>97</td>\n",
       "      <td>250</td>\n",
       "      <td>21:30</td>\n",
       "      <td>10:07</td>\n",
       "      <td>1739</td>\n",
       "      <td>1742</td>\n",
       "      <td>0.77</td>\n",
       "      <td>3:01:06</td>\n",
       "      <td>60.8</td>\n",
       "      <td>07:42.4</td>\n",
       "      <td>9</td>\n",
       "    </tr>\n",
       "  </tbody>\n",
       "</table>\n",
       "</div>"
      ],
      "text/plain": [
       "  Activity Type              Date                    Title  Distance  \\\n",
       "0       Running  10/29/2020 14:50      Park County Running      1.02   \n",
       "1       Running  10/29/2020 13:34      Park County Running      0.72   \n",
       "2       Running  10/27/2020 10:34     Grand County Running      2.01   \n",
       "3       Running  10/26/2020 15:12  San Juan County Running      1.89   \n",
       "4       Running  10/25/2020 11:27  Garfield County Running      8.43   \n",
       "\n",
       "   Calories     Time  Avg HR  Max HR  Aerobic TE  Avg Run Cadence  \\\n",
       "0       183  0:39:41      96     127         1.0               49   \n",
       "1       137  0:31:13      91     117         0.6               40   \n",
       "2       224  0:35:41     110     138         1.7               91   \n",
       "3       259  0:50:17     104     129         0.9               71   \n",
       "4      1251  3:01:06     130     178         3.7               97   \n",
       "\n",
       "   Max Run Cadence  Avg Pace Best Pace  Elev Gain  Elev Loss  \\\n",
       "0              158  39:03:00      3:14        276        259   \n",
       "1              162  43:33:00     12:53        105         62   \n",
       "2              250     17:46      5:22        217        207   \n",
       "3              225  26:38:00     13:49        213        184   \n",
       "4              250     21:30     10:07       1739       1742   \n",
       "\n",
       "   Avg Stride Length Climb Time  Min Temp Best Lap Time  Number of Laps  \n",
       "0               0.83   39:41:00      64.4       00:02.5               2  \n",
       "1               0.91   31:13:00      68.0       31:13.0               1  \n",
       "2               1.00   35:41:00      66.2       00:06.0               3  \n",
       "3               0.86   50:17:00      66.2       22:53.0               2  \n",
       "4               0.77    3:01:06      60.8       07:42.4               9  "
      ]
     },
     "execution_count": 2,
     "metadata": {},
     "output_type": "execute_result"
    }
   ],
   "source": [
    "# Read the csv file into a pandas DataFrame\n",
    "#url = 'https://github.com/jmbruner37/fitness_tracking/blob/master/ac_activities_garmin.csv'\n",
    "\n",
    "activities_csv = pd.read_csv('ac_activities_garmin_clean.csv')\n",
    "activities_csv.head()"
   ]
  },
  {
   "cell_type": "code",
   "execution_count": 3,
   "metadata": {},
   "outputs": [
    {
     "data": {
      "text/html": [
       "<div>\n",
       "<style scoped>\n",
       "    .dataframe tbody tr th:only-of-type {\n",
       "        vertical-align: middle;\n",
       "    }\n",
       "\n",
       "    .dataframe tbody tr th {\n",
       "        vertical-align: top;\n",
       "    }\n",
       "\n",
       "    .dataframe thead th {\n",
       "        text-align: right;\n",
       "    }\n",
       "</style>\n",
       "<table border=\"1\" class=\"dataframe\">\n",
       "  <thead>\n",
       "    <tr style=\"text-align: right;\">\n",
       "      <th></th>\n",
       "      <th>Activity Type</th>\n",
       "      <th>Date</th>\n",
       "      <th>Title</th>\n",
       "      <th>Distance</th>\n",
       "      <th>Calories</th>\n",
       "      <th>Time</th>\n",
       "      <th>Avg HR</th>\n",
       "    </tr>\n",
       "  </thead>\n",
       "  <tbody>\n",
       "    <tr>\n",
       "      <th>0</th>\n",
       "      <td>Running</td>\n",
       "      <td>10/29/2020 14:50</td>\n",
       "      <td>Park County Running</td>\n",
       "      <td>1.02</td>\n",
       "      <td>183</td>\n",
       "      <td>0:39:41</td>\n",
       "      <td>96</td>\n",
       "    </tr>\n",
       "    <tr>\n",
       "      <th>1</th>\n",
       "      <td>Running</td>\n",
       "      <td>10/29/2020 13:34</td>\n",
       "      <td>Park County Running</td>\n",
       "      <td>0.72</td>\n",
       "      <td>137</td>\n",
       "      <td>0:31:13</td>\n",
       "      <td>91</td>\n",
       "    </tr>\n",
       "    <tr>\n",
       "      <th>2</th>\n",
       "      <td>Running</td>\n",
       "      <td>10/27/2020 10:34</td>\n",
       "      <td>Grand County Running</td>\n",
       "      <td>2.01</td>\n",
       "      <td>224</td>\n",
       "      <td>0:35:41</td>\n",
       "      <td>110</td>\n",
       "    </tr>\n",
       "    <tr>\n",
       "      <th>3</th>\n",
       "      <td>Running</td>\n",
       "      <td>10/26/2020 15:12</td>\n",
       "      <td>San Juan County Running</td>\n",
       "      <td>1.89</td>\n",
       "      <td>259</td>\n",
       "      <td>0:50:17</td>\n",
       "      <td>104</td>\n",
       "    </tr>\n",
       "    <tr>\n",
       "      <th>4</th>\n",
       "      <td>Running</td>\n",
       "      <td>10/25/2020 11:27</td>\n",
       "      <td>Garfield County Running</td>\n",
       "      <td>8.43</td>\n",
       "      <td>1251</td>\n",
       "      <td>3:01:06</td>\n",
       "      <td>130</td>\n",
       "    </tr>\n",
       "  </tbody>\n",
       "</table>\n",
       "</div>"
      ],
      "text/plain": [
       "  Activity Type              Date                    Title  Distance  \\\n",
       "0       Running  10/29/2020 14:50      Park County Running      1.02   \n",
       "1       Running  10/29/2020 13:34      Park County Running      0.72   \n",
       "2       Running  10/27/2020 10:34     Grand County Running      2.01   \n",
       "3       Running  10/26/2020 15:12  San Juan County Running      1.89   \n",
       "4       Running  10/25/2020 11:27  Garfield County Running      8.43   \n",
       "\n",
       "   Calories     Time  Avg HR  \n",
       "0       183  0:39:41      96  \n",
       "1       137  0:31:13      91  \n",
       "2       224  0:35:41     110  \n",
       "3       259  0:50:17     104  \n",
       "4      1251  3:01:06     130  "
      ]
     },
     "execution_count": 3,
     "metadata": {},
     "output_type": "execute_result"
    }
   ],
   "source": [
    "activities = activities_csv[[\"Activity Type\", \"Date\", \"Title\", \"Distance\", \"Calories\", \"Time\", \"Avg HR\"]].copy()\n",
    "activities.head()"
   ]
  },
  {
   "cell_type": "code",
   "execution_count": 4,
   "metadata": {},
   "outputs": [
    {
     "data": {
      "text/plain": [
       "Activity Type     object\n",
       "Date              object\n",
       "Title             object\n",
       "Distance         float64\n",
       "Calories           int64\n",
       "Time              object\n",
       "Avg HR             int64\n",
       "dtype: object"
      ]
     },
     "execution_count": 4,
     "metadata": {},
     "output_type": "execute_result"
    }
   ],
   "source": [
    "activities.dtypes"
   ]
  },
  {
   "cell_type": "code",
   "execution_count": 5,
   "metadata": {},
   "outputs": [
    {
     "data": {
      "text/plain": [
       "Activity Type    float64\n",
       "Date             float64\n",
       "Title            float64\n",
       "Distance         float64\n",
       "Calories           int64\n",
       "Time             float64\n",
       "Avg HR             int64\n",
       "dtype: object"
      ]
     },
     "execution_count": 5,
     "metadata": {},
     "output_type": "execute_result"
    }
   ],
   "source": [
    "activities = activities.apply(pd.to_numeric,errors=\"coerce\")\n",
    "activities.dtypes"
   ]
  },
  {
   "cell_type": "code",
   "execution_count": 6,
   "metadata": {},
   "outputs": [
    {
     "data": {
      "text/plain": [
       "Activity Type           float64\n",
       "Date             datetime64[ns]\n",
       "Title                   float64\n",
       "Distance                float64\n",
       "Calories                  int64\n",
       "Time             datetime64[ns]\n",
       "Avg HR                    int64\n",
       "dtype: object"
      ]
     },
     "execution_count": 6,
     "metadata": {},
     "output_type": "execute_result"
    }
   ],
   "source": [
    "activities[\"Date\"] = activities[\"Date\"].apply(pd.to_datetime,errors=\"coerce\")\n",
    "activities[\"Time\"] = activities[\"Time\"].apply(pd.to_datetime,errors=\"coerce\")\n",
    "activities.dtypes"
   ]
  },
  {
   "cell_type": "code",
   "execution_count": 7,
   "metadata": {},
   "outputs": [],
   "source": [
    "#activities.dropna(how=\"any\", inplace=True)"
   ]
  },
  {
   "cell_type": "code",
   "execution_count": 8,
   "metadata": {},
   "outputs": [
    {
     "name": "stdout",
     "output_type": "stream",
     "text": [
      "Shape:  (899, 2) (899, 1)\n"
     ]
    }
   ],
   "source": [
    "# Assign the data to X and y\n",
    "# Note: Sklearn requires a two-dimensional array of values\n",
    "# so we use reshape to create this\n",
    "\n",
    "X = activities[[\"Distance\", \"Avg HR\"]]\n",
    "y = activities[\"Calories\"].values.reshape(-1, 1)\n",
    "\n",
    "print(\"Shape: \", X.shape, y.shape)"
   ]
  },
  {
   "cell_type": "code",
   "execution_count": 9,
   "metadata": {},
   "outputs": [],
   "source": [
    "# Use sklearn's `train_test_split` to split the data into training and testing\n",
    "\n",
    "from sklearn.model_selection import train_test_split\n",
    "\n",
    "### BEGIN SOLUTION\n",
    "\n",
    "X_train, X_test, y_train, y_test = train_test_split(X, y, random_state=42)\n",
    "\n",
    "### END SOLUTION"
   ]
  },
  {
   "cell_type": "code",
   "execution_count": 10,
   "metadata": {},
   "outputs": [],
   "source": [
    "# Create the model\n",
    "\n",
    "### BEGIN SOLUTION\n",
    "\n",
    "from sklearn.linear_model import LinearRegression\n",
    "\n",
    "model = LinearRegression()\n",
    "\n",
    "### END SOLUTION"
   ]
  },
  {
   "cell_type": "code",
   "execution_count": 11,
   "metadata": {},
   "outputs": [
    {
     "name": "stdout",
     "output_type": "stream",
     "text": [
      "Training Score: 0.9151291754339728\n",
      "Testing Score: 0.9114166157965021\n"
     ]
    }
   ],
   "source": [
    "# Fit the model to the training data. \n",
    "\n",
    "### BEGIN SOLUTION\n",
    "\n",
    "model.fit(X_train, y_train)\n",
    "training_score = model.score(X_train, y_train)\n",
    "testing_score = model.score(X_test, y_test)\n",
    "\n",
    "### END SOLUTION\n",
    "\n",
    "print(f\"Training Score: {training_score}\")\n",
    "print(f\"Testing Score: {testing_score}\")"
   ]
  },
  {
   "cell_type": "code",
   "execution_count": 12,
   "metadata": {},
   "outputs": [
    {
     "name": "stdout",
     "output_type": "stream",
     "text": [
      "Mean Squared Error (MSE): 24799.302813287133\n",
      "R-squared (R2 ): 0.911416615796502\n"
     ]
    }
   ],
   "source": [
    "# Calculate the mean_squared_error and the r-squared value\n",
    "# for the testing data\n",
    "\n",
    "from sklearn.metrics import mean_squared_error, r2_score\n",
    "\n",
    "### BEGIN SOLUTION\n",
    "\n",
    "# Use our model to make predictions\n",
    "predicted = model.predict(X_test)\n",
    "\n",
    "# Score the predictions with mse and r2\n",
    "mse = mean_squared_error(y_test, predicted)\n",
    "r2 = r2_score(y_test, predicted)\n",
    "\n",
    "print(f\"Mean Squared Error (MSE): {mse}\")\n",
    "print(f\"R-squared (R2 ): {r2}\")\n",
    "\n",
    "### END SOLUTION"
   ]
  },
  {
   "cell_type": "code",
   "execution_count": 13,
   "metadata": {},
   "outputs": [
    {
     "data": {
      "text/plain": [
       "0.9114166157965021"
      ]
     },
     "execution_count": 13,
     "metadata": {},
     "output_type": "execute_result"
    }
   ],
   "source": [
    "# Call the `score` method on the model to show the r2 score\n",
    "\n",
    "### BEGIN SOLUTION\n",
    "model.score(X_test, y_test)\n",
    "### END SOLUTION"
   ]
  },
  {
   "cell_type": "code",
   "execution_count": 14,
   "metadata": {},
   "outputs": [
    {
     "data": {
      "text/plain": [
       "Text(0.5, 1.0, 'Residual Plot')"
      ]
     },
     "execution_count": 14,
     "metadata": {},
     "output_type": "execute_result"
    },
    {
     "data": {
      "image/png": "[encoded data removed]",
      "text/plain": [
       "<Figure size 432x288 with 1 Axes>"
      ]
     },
     "metadata": {
      "needs_background": "light"
     },
     "output_type": "display_data"
    }
   ],
   "source": [
    "# Plot the Residuals for the Training and Testing data\n",
    "\n",
    "### BEGIN SOLUTION\n",
    "plt.scatter(model.predict(X_train), model.predict(X_train) - y_train, c=\"blue\", label=\"Training Data\")\n",
    "plt.scatter(model.predict(X_test), model.predict(X_test) - y_test, c=\"orange\", label=\"Testing Data\")\n",
    "plt.legend()\n",
    "plt.hlines(y=0, xmin=y.min(), xmax=y.max())\n",
    "plt.title(\"Residual Plot\")\n",
    "### END SOLUTION"
   ]
  },
  {
   "cell_type": "code",
   "execution_count": null,
   "metadata": {},
   "outputs": [],
   "source": []
  }
 ],
 "metadata": {
  "kernelspec": {
   "display_name": "Python 3.6.10 64-bit ('PythonData': conda)",
   "language": "python",
   "name": "python361064bitpythondataconda22b9033498814472bf281a4c68ca027c"
  },
  "language_info": {
   "codemirror_mode": {
    "name": "ipython",
    "version": 3
   },
   "file_extension": ".py",
   "mimetype": "text/x-python",
   "name": "python",
   "nbconvert_exporter": "python",
   "pygments_lexer": "ipython3",
   "version": "3.6.10"
  }
 },
 "nbformat": 4,
 "nbformat_minor": 4
}

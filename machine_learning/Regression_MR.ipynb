{
 "cells": [
  {
   "cell_type": "code",
   "execution_count": 37,
   "metadata": {},
   "outputs": [],
   "source": [
    "import matplotlib.pyplot as plt\n",
    "import numpy as np\n",
    "import pandas as pd"
   ]
  },
  {
   "cell_type": "code",
   "execution_count": 38,
   "metadata": {},
   "outputs": [
    {
     "data": {
      "text/html": [
       "<div>\n",
       "<style scoped>\n",
       "    .dataframe tbody tr th:only-of-type {\n",
       "        vertical-align: middle;\n",
       "    }\n",
       "\n",
       "    .dataframe tbody tr th {\n",
       "        vertical-align: top;\n",
       "    }\n",
       "\n",
       "    .dataframe thead th {\n",
       "        text-align: right;\n",
       "    }\n",
       "</style>\n",
       "<table border=\"1\" class=\"dataframe\">\n",
       "  <thead>\n",
       "    <tr style=\"text-align: right;\">\n",
       "      <th></th>\n",
       "      <th>id</th>\n",
       "      <th>type</th>\n",
       "      <th>x_gear_name</th>\n",
       "      <th>day</th>\n",
       "      <th>month</th>\n",
       "      <th>year</th>\n",
       "      <th>x_start_h</th>\n",
       "      <th>name</th>\n",
       "      <th>x_min</th>\n",
       "      <th>x_km</th>\n",
       "      <th>...</th>\n",
       "      <th>start_longitude</th>\n",
       "      <th>timezone</th>\n",
       "      <th>total_photo_count</th>\n",
       "      <th>trainer</th>\n",
       "      <th>upload_id</th>\n",
       "      <th>upload_id_str</th>\n",
       "      <th>utc_offset</th>\n",
       "      <th>x_date</th>\n",
       "      <th>x_elev_%</th>\n",
       "      <th>x_url</th>\n",
       "    </tr>\n",
       "  </thead>\n",
       "  <tbody>\n",
       "    <tr>\n",
       "      <th>0</th>\n",
       "      <td>975545643</td>\n",
       "      <td>Run</td>\n",
       "      <td>NaN</td>\n",
       "      <td>11</td>\n",
       "      <td>2</td>\n",
       "      <td>2017</td>\n",
       "      <td>10.7</td>\n",
       "      <td>Morning Run</td>\n",
       "      <td>74.3</td>\n",
       "      <td>11.448</td>\n",
       "      <td>...</td>\n",
       "      <td>-1.203424</td>\n",
       "      <td>(GMT+00:00) Europe/London</td>\n",
       "      <td>0</td>\n",
       "      <td>0</td>\n",
       "      <td>1.076616e+09</td>\n",
       "      <td>1.076616e+09</td>\n",
       "      <td>0</td>\n",
       "      <td>2/11/2017</td>\n",
       "      <td>0.62</td>\n",
       "      <td>https://www.strava.com/activities/975545643</td>\n",
       "    </tr>\n",
       "    <tr>\n",
       "      <th>1</th>\n",
       "      <td>975545595</td>\n",
       "      <td>Run</td>\n",
       "      <td>NaN</td>\n",
       "      <td>18</td>\n",
       "      <td>2</td>\n",
       "      <td>2017</td>\n",
       "      <td>10.3</td>\n",
       "      <td>Morning Run</td>\n",
       "      <td>82.8</td>\n",
       "      <td>12.755</td>\n",
       "      <td>...</td>\n",
       "      <td>-1.203288</td>\n",
       "      <td>(GMT+00:00) Europe/London</td>\n",
       "      <td>0</td>\n",
       "      <td>0</td>\n",
       "      <td>1.076616e+09</td>\n",
       "      <td>1.076616e+09</td>\n",
       "      <td>0</td>\n",
       "      <td>2/18/2017</td>\n",
       "      <td>0.68</td>\n",
       "      <td>https://www.strava.com/activities/975545595</td>\n",
       "    </tr>\n",
       "    <tr>\n",
       "      <th>2</th>\n",
       "      <td>975545491</td>\n",
       "      <td>Run</td>\n",
       "      <td>NaN</td>\n",
       "      <td>19</td>\n",
       "      <td>2</td>\n",
       "      <td>2017</td>\n",
       "      <td>9.7</td>\n",
       "      <td>Morning Run</td>\n",
       "      <td>42.7</td>\n",
       "      <td>7.242</td>\n",
       "      <td>...</td>\n",
       "      <td>-1.203178</td>\n",
       "      <td>(GMT+00:00) Europe/London</td>\n",
       "      <td>0</td>\n",
       "      <td>0</td>\n",
       "      <td>1.076616e+09</td>\n",
       "      <td>1.076616e+09</td>\n",
       "      <td>0</td>\n",
       "      <td>2/19/2017</td>\n",
       "      <td>0.88</td>\n",
       "      <td>https://www.strava.com/activities/975545491</td>\n",
       "    </tr>\n",
       "    <tr>\n",
       "      <th>3</th>\n",
       "      <td>975545407</td>\n",
       "      <td>Run</td>\n",
       "      <td>NaN</td>\n",
       "      <td>21</td>\n",
       "      <td>2</td>\n",
       "      <td>2017</td>\n",
       "      <td>6.0</td>\n",
       "      <td>Morning Run</td>\n",
       "      <td>37.1</td>\n",
       "      <td>6.446</td>\n",
       "      <td>...</td>\n",
       "      <td>-1.203521</td>\n",
       "      <td>(GMT+00:00) Europe/London</td>\n",
       "      <td>0</td>\n",
       "      <td>0</td>\n",
       "      <td>1.076616e+09</td>\n",
       "      <td>1.076616e+09</td>\n",
       "      <td>0</td>\n",
       "      <td>2/21/2017</td>\n",
       "      <td>0.95</td>\n",
       "      <td>https://www.strava.com/activities/975545407</td>\n",
       "    </tr>\n",
       "    <tr>\n",
       "      <th>4</th>\n",
       "      <td>975545534</td>\n",
       "      <td>Run</td>\n",
       "      <td>NaN</td>\n",
       "      <td>22</td>\n",
       "      <td>2</td>\n",
       "      <td>2017</td>\n",
       "      <td>6.0</td>\n",
       "      <td>Morning Run</td>\n",
       "      <td>33.7</td>\n",
       "      <td>5.935</td>\n",
       "      <td>...</td>\n",
       "      <td>-1.203256</td>\n",
       "      <td>(GMT+00:00) Europe/London</td>\n",
       "      <td>0</td>\n",
       "      <td>0</td>\n",
       "      <td>1.076616e+09</td>\n",
       "      <td>1.076616e+09</td>\n",
       "      <td>0</td>\n",
       "      <td>2/22/2017</td>\n",
       "      <td>0.72</td>\n",
       "      <td>https://www.strava.com/activities/975545534</td>\n",
       "    </tr>\n",
       "  </tbody>\n",
       "</table>\n",
       "<p>5 rows × 75 columns</p>\n",
       "</div>"
      ],
      "text/plain": [
       "          id type  x_gear_name  day  month  year  x_start_h         name  \\\n",
       "0  975545643  Run          NaN   11      2  2017       10.7  Morning Run   \n",
       "1  975545595  Run          NaN   18      2  2017       10.3  Morning Run   \n",
       "2  975545491  Run          NaN   19      2  2017        9.7  Morning Run   \n",
       "3  975545407  Run          NaN   21      2  2017        6.0  Morning Run   \n",
       "4  975545534  Run          NaN   22      2  2017        6.0  Morning Run   \n",
       "\n",
       "   x_min    x_km  ...  start_longitude                   timezone  \\\n",
       "0   74.3  11.448  ...        -1.203424  (GMT+00:00) Europe/London   \n",
       "1   82.8  12.755  ...        -1.203288  (GMT+00:00) Europe/London   \n",
       "2   42.7   7.242  ...        -1.203178  (GMT+00:00) Europe/London   \n",
       "3   37.1   6.446  ...        -1.203521  (GMT+00:00) Europe/London   \n",
       "4   33.7   5.935  ...        -1.203256  (GMT+00:00) Europe/London   \n",
       "\n",
       "   total_photo_count  trainer     upload_id  upload_id_str  utc_offset  \\\n",
       "0                  0        0  1.076616e+09   1.076616e+09           0   \n",
       "1                  0        0  1.076616e+09   1.076616e+09           0   \n",
       "2                  0        0  1.076616e+09   1.076616e+09           0   \n",
       "3                  0        0  1.076616e+09   1.076616e+09           0   \n",
       "4                  0        0  1.076616e+09   1.076616e+09           0   \n",
       "\n",
       "      x_date  x_elev_%                                        x_url  \n",
       "0  2/11/2017      0.62  https://www.strava.com/activities/975545643  \n",
       "1  2/18/2017      0.68  https://www.strava.com/activities/975545595  \n",
       "2  2/19/2017      0.88  https://www.strava.com/activities/975545491  \n",
       "3  2/21/2017      0.95  https://www.strava.com/activities/975545407  \n",
       "4  2/22/2017      0.72  https://www.strava.com/activities/975545534  \n",
       "\n",
       "[5 rows x 75 columns]"
      ]
     },
     "execution_count": 38,
     "metadata": {},
     "output_type": "execute_result"
    }
   ],
   "source": [
    "run = pd.read_csv('ActivityList_MaryRobert.csv')\n",
    "run.head()"
   ]
  },
  {
   "cell_type": "code",
   "execution_count": 39,
   "metadata": {},
   "outputs": [
    {
     "data": {
      "text/plain": [
       "id               616\n",
       "type             616\n",
       "x_gear_name        0\n",
       "day              616\n",
       "month            616\n",
       "                ... \n",
       "upload_id_str    614\n",
       "utc_offset       616\n",
       "x_date           616\n",
       "x_elev_%         607\n",
       "x_url            616\n",
       "Length: 75, dtype: int64"
      ]
     },
     "execution_count": 39,
     "metadata": {},
     "output_type": "execute_result"
    }
   ],
   "source": [
    "run_clean = run[(run['type'] == 'Run')] \n",
    "run_clean.count()"
   ]
  },
  {
   "cell_type": "code",
   "execution_count": 40,
   "metadata": {},
   "outputs": [
    {
     "data": {
      "text/html": [
       "<div>\n",
       "<style scoped>\n",
       "    .dataframe tbody tr th:only-of-type {\n",
       "        vertical-align: middle;\n",
       "    }\n",
       "\n",
       "    .dataframe tbody tr th {\n",
       "        vertical-align: top;\n",
       "    }\n",
       "\n",
       "    .dataframe thead th {\n",
       "        text-align: right;\n",
       "    }\n",
       "</style>\n",
       "<table border=\"1\" class=\"dataframe\">\n",
       "  <thead>\n",
       "    <tr style=\"text-align: right;\">\n",
       "      <th></th>\n",
       "      <th>x_min/mi</th>\n",
       "      <th>type</th>\n",
       "      <th>x_start_h</th>\n",
       "      <th>x_min</th>\n",
       "      <th>total_elevation_gain</th>\n",
       "      <th>month</th>\n",
       "    </tr>\n",
       "  </thead>\n",
       "  <tbody>\n",
       "    <tr>\n",
       "      <th>0</th>\n",
       "      <td>10.45</td>\n",
       "      <td>Run</td>\n",
       "      <td>10.7</td>\n",
       "      <td>74.3</td>\n",
       "      <td>70.5</td>\n",
       "      <td>2</td>\n",
       "    </tr>\n",
       "    <tr>\n",
       "      <th>1</th>\n",
       "      <td>10.45</td>\n",
       "      <td>Run</td>\n",
       "      <td>10.3</td>\n",
       "      <td>82.8</td>\n",
       "      <td>87.1</td>\n",
       "      <td>2</td>\n",
       "    </tr>\n",
       "    <tr>\n",
       "      <th>2</th>\n",
       "      <td>9.48</td>\n",
       "      <td>Run</td>\n",
       "      <td>9.7</td>\n",
       "      <td>42.7</td>\n",
       "      <td>63.5</td>\n",
       "      <td>2</td>\n",
       "    </tr>\n",
       "    <tr>\n",
       "      <th>3</th>\n",
       "      <td>9.26</td>\n",
       "      <td>Run</td>\n",
       "      <td>6.0</td>\n",
       "      <td>37.1</td>\n",
       "      <td>61.3</td>\n",
       "      <td>2</td>\n",
       "    </tr>\n",
       "    <tr>\n",
       "      <th>4</th>\n",
       "      <td>9.15</td>\n",
       "      <td>Run</td>\n",
       "      <td>6.0</td>\n",
       "      <td>33.7</td>\n",
       "      <td>42.5</td>\n",
       "      <td>2</td>\n",
       "    </tr>\n",
       "  </tbody>\n",
       "</table>\n",
       "</div>"
      ],
      "text/plain": [
       "   x_min/mi type  x_start_h  x_min  total_elevation_gain  month\n",
       "0     10.45  Run       10.7   74.3                  70.5      2\n",
       "1     10.45  Run       10.3   82.8                  87.1      2\n",
       "2      9.48  Run        9.7   42.7                  63.5      2\n",
       "3      9.26  Run        6.0   37.1                  61.3      2\n",
       "4      9.15  Run        6.0   33.7                  42.5      2"
      ]
     },
     "execution_count": 40,
     "metadata": {},
     "output_type": "execute_result"
    }
   ],
   "source": [
    "data = run_clean[[\"x_min/mi\",\"type\", \"x_start_h\", \"x_min\", \"total_elevation_gain\", \"month\"]]\n",
    "data.head()"
   ]
  },
  {
   "cell_type": "code",
   "execution_count": 41,
   "metadata": {},
   "outputs": [
    {
     "name": "stdout",
     "output_type": "stream",
     "text": [
      "(616, 4) (616, 1)\n"
     ]
    }
   ],
   "source": [
    "# Assign X (data) and y (target)\n",
    "\n",
    "### BEGIN SOLUTION\n",
    "X = data[['x_start_h', 'x_min', 'total_elevation_gain', 'month']]\n",
    "y = data[\"x_min/mi\"].values.reshape(-1, 1)\n",
    "print(X.shape, y.shape)\n",
    "### END SOLUTION"
   ]
  },
  {
   "cell_type": "code",
   "execution_count": 42,
   "metadata": {},
   "outputs": [],
   "source": [
    "from sklearn.model_selection import train_test_split\n",
    "\n",
    "X_train, X_test, y_train, y_test = train_test_split(X, y, random_state=42)"
   ]
  },
  {
   "cell_type": "code",
   "execution_count": 43,
   "metadata": {},
   "outputs": [],
   "source": [
    "from sklearn.preprocessing import StandardScaler\n",
    "\n",
    "# Create a StandardScater model and fit it to the training data\n",
    "\n",
    "X_scaler = StandardScaler().fit(X_train)\n",
    "y_scaler = StandardScaler().fit(y_train)"
   ]
  },
  {
   "cell_type": "code",
   "execution_count": 44,
   "metadata": {},
   "outputs": [],
   "source": [
    "# Transform the training and testing data using the X_scaler and y_scaler models\n",
    "\n",
    "### BEGIN SOLUTION\n",
    "X_train_scaled = X_scaler.transform(X_train)\n",
    "X_test_scaled = X_scaler.transform(X_test)\n",
    "y_train_scaled = y_scaler.transform(y_train)\n",
    "y_test_scaled = y_scaler.transform(y_test)"
   ]
  },
  {
   "cell_type": "code",
   "execution_count": 45,
   "metadata": {},
   "outputs": [
    {
     "data": {
      "text/plain": [
       "LinearRegression(copy_X=True, fit_intercept=True, n_jobs=None, normalize=False)"
      ]
     },
     "execution_count": 45,
     "metadata": {},
     "output_type": "execute_result"
    }
   ],
   "source": [
    "from sklearn.linear_model import LinearRegression\n",
    "model = LinearRegression()\n",
    "model.fit(X_train_scaled, y_train_scaled)"
   ]
  },
  {
   "cell_type": "code",
   "execution_count": 46,
   "metadata": {},
   "outputs": [
    {
     "data": {
      "image/png": "[encoded data removed]",
      "text/plain": [
       "<Figure size 432x288 with 1 Axes>"
      ]
     },
     "metadata": {
      "needs_background": "light"
     },
     "output_type": "display_data"
    }
   ],
   "source": [
    "# Make predictions using a fitted model\n",
    "# Plot the difference between the model predicted values and actual y values, versus the model predicted values\n",
    "# Hint: You can predict values of X training and testing data using the model.predict() method on a fitted model\n",
    "\n",
    "### BEGIN SOLUTION\n",
    "predictions = model.predict(X_test_scaled)\n",
    "model.fit(X_train_scaled, y_train_scaled)\n",
    "\n",
    "plt.scatter(model.predict(X_train_scaled), model.predict(X_train_scaled) - y_train_scaled, c=\"blue\", label=\"Training Data\")\n",
    "plt.scatter(model.predict(X_test_scaled), model.predict(X_test_scaled) - y_test_scaled, c=\"orange\", label=\"Testing Data\")\n",
    "plt.legend()\n",
    "plt.hlines(y=0, xmin=y_test_scaled.min(), xmax=y_test_scaled.max())\n",
    "plt.title(\"Residual Plot\")\n",
    "plt.show()\n",
    "### END SOLUTION"
   ]
  },
  {
   "cell_type": "code",
   "execution_count": 47,
   "metadata": {},
   "outputs": [
    {
     "name": "stdout",
     "output_type": "stream",
     "text": [
      "MSE: 1.3804353293903102, R2: 0.011350497620925992\n"
     ]
    }
   ],
   "source": [
    "# Used X_test_scaled, y_test_scaled, and model.predict(X_test_scaled) to calculate MSE and R2\n",
    "\n",
    "### BEGIN SOLUTION\n",
    "from sklearn.metrics import mean_squared_error\n",
    "\n",
    "MSE = mean_squared_error(y_test_scaled, predictions)\n",
    "r2 = model.score(X_test_scaled, y_test_scaled)\n",
    "### END SOLUTION\n",
    "\n",
    "print(f\"MSE: {MSE}, R2: {r2}\")"
   ]
  },
  {
   "cell_type": "code",
   "execution_count": 48,
   "metadata": {},
   "outputs": [
    {
     "name": "stdout",
     "output_type": "stream",
     "text": [
      "MSE: 1.3774877208486205, R2: 0.01346153582453169\n"
     ]
    }
   ],
   "source": [
    "# LASSO model\n",
    "# Note: Use an alpha of .01 when creating the model for this activity\n",
    "from sklearn.linear_model import Lasso\n",
    "\n",
    "### BEGIN SOLUTION\n",
    "lasso = Lasso(alpha=.01).fit(X_train_scaled, y_train_scaled)\n",
    "\n",
    "predictions = lasso.predict(X_test_scaled)\n",
    "\n",
    "MSE = mean_squared_error(y_test_scaled, predictions)\n",
    "r2 = lasso.score(X_test_scaled, y_test_scaled)\n",
    "### END SOLUTION\n",
    "\n",
    "print(f\"MSE: {MSE}, R2: {r2}\")"
   ]
  },
  {
   "cell_type": "code",
   "execution_count": 49,
   "metadata": {},
   "outputs": [
    {
     "name": "stdout",
     "output_type": "stream",
     "text": [
      "MSE: 1.3804344643678808, R2: 0.011351117138534761\n"
     ]
    }
   ],
   "source": [
    "# Ridge model\n",
    "# Note: Use an alpha of .01 when creating the model for this activity\n",
    "from sklearn.linear_model import Ridge\n",
    "\n",
    "### BEGIN SOLUTION\n",
    "ridge = Ridge(alpha=.01).fit(X_train_scaled, y_train_scaled)\n",
    "\n",
    "predictions = ridge.predict(X_test_scaled)\n",
    "\n",
    "MSE = mean_squared_error(y_test_scaled, predictions)\n",
    "r2 = ridge.score(X_test_scaled, y_test_scaled)\n",
    "### END SOLUTION\n",
    "\n",
    "print(f\"MSE: {MSE}, R2: {r2}\")"
   ]
  },
  {
   "cell_type": "code",
   "execution_count": 50,
   "metadata": {},
   "outputs": [
    {
     "name": "stdout",
     "output_type": "stream",
     "text": [
      "MSE: 1.3784936260522875, R2: 0.012741119838449055\n"
     ]
    }
   ],
   "source": [
    "# ElasticNet model\n",
    "# Note: Use an alpha of .01 when creating the model for this activity\n",
    "from sklearn.linear_model import ElasticNet\n",
    "\n",
    "### BEGIN SOLUTION\n",
    "elasticnet = ElasticNet(alpha=.01).fit(X_train_scaled, y_train_scaled)\n",
    "\n",
    "predictions = elasticnet.predict(X_test_scaled)\n",
    "\n",
    "MSE = mean_squared_error(y_test_scaled, predictions)\n",
    "r2 = elasticnet.score(X_test_scaled, y_test_scaled)\n",
    "### END SOLUTION\n",
    "\n",
    "print(f\"MSE: {MSE}, R2: {r2}\")"
   ]
  },
  {
   "cell_type": "code",
   "execution_count": null,
   "metadata": {},
   "outputs": [],
   "source": []
  }
 ],
 "metadata": {
  "kernelspec": {
   "display_name": "Python 3",
   "language": "python",
   "name": "python3"
  },
  "language_info": {
   "codemirror_mode": {
    "name": "ipython",
    "version": 3
   },
   "file_extension": ".py",
   "mimetype": "text/x-python",
   "name": "python",
   "nbconvert_exporter": "python",
   "pygments_lexer": "ipython3",
   "version": "3.7.6"
  }
 },
 "nbformat": 4,
 "nbformat_minor": 4
}

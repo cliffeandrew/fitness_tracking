{
 "cells": [
  {
   "cell_type": "code",
   "execution_count": 10,
   "metadata": {},
   "outputs": [],
   "source": [
    "from numpy.random import seed\n",
    "seed(1)"
   ]
  },
  {
   "cell_type": "code",
   "execution_count": 11,
   "metadata": {},
   "outputs": [
    {
     "data": {
      "text/plain": [
       "'2.4.0'"
      ]
     },
     "execution_count": 11,
     "metadata": {},
     "output_type": "execute_result"
    }
   ],
   "source": [
    "# Dependencies\n",
    "import numpy as np\n",
    "import pandas as pd\n",
    "import tensorflow\n",
    "tensorflow.keras.__version__"
   ]
  },
  {
   "cell_type": "code",
   "execution_count": 12,
   "metadata": {},
   "outputs": [],
   "source": [
    "import os"
   ]
  },
  {
   "cell_type": "code",
   "execution_count": 13,
   "metadata": {},
   "outputs": [
    {
     "data": {
      "text/html": [
       "<div>\n",
       "<style scoped>\n",
       "    .dataframe tbody tr th:only-of-type {\n",
       "        vertical-align: middle;\n",
       "    }\n",
       "\n",
       "    .dataframe tbody tr th {\n",
       "        vertical-align: top;\n",
       "    }\n",
       "\n",
       "    .dataframe thead th {\n",
       "        text-align: right;\n",
       "    }\n",
       "</style>\n",
       "<table border=\"1\" class=\"dataframe\">\n",
       "  <thead>\n",
       "    <tr style=\"text-align: right;\">\n",
       "      <th></th>\n",
       "      <th>id</th>\n",
       "      <th>type</th>\n",
       "      <th>type_m</th>\n",
       "      <th>x_gear_name</th>\n",
       "      <th>start_date_local</th>\n",
       "      <th>x_start_h</th>\n",
       "      <th>name</th>\n",
       "      <th>x_min</th>\n",
       "      <th>x_km</th>\n",
       "      <th>x_min/km</th>\n",
       "      <th>...</th>\n",
       "      <th>start_longitude</th>\n",
       "      <th>timezone</th>\n",
       "      <th>total_photo_count</th>\n",
       "      <th>trainer</th>\n",
       "      <th>upload_id</th>\n",
       "      <th>upload_id_str</th>\n",
       "      <th>utc_offset</th>\n",
       "      <th>x_date</th>\n",
       "      <th>x_elev_%</th>\n",
       "      <th>x_url</th>\n",
       "    </tr>\n",
       "  </thead>\n",
       "  <tbody>\n",
       "    <tr>\n",
       "      <th>0</th>\n",
       "      <td>2850013230</td>\n",
       "      <td>Run</td>\n",
       "      <td>Hike</td>\n",
       "      <td>NaN</td>\n",
       "      <td>07.11.2019 16:46:32</td>\n",
       "      <td>16.8</td>\n",
       "      <td>Afternoon Run</td>\n",
       "      <td>42.1</td>\n",
       "      <td>0.458</td>\n",
       "      <td>92.08</td>\n",
       "      <td>...</td>\n",
       "      <td>NaN</td>\n",
       "      <td>(GMT-08:00) America/Los_Angeles</td>\n",
       "      <td>0</td>\n",
       "      <td>1</td>\n",
       "      <td>3022102505</td>\n",
       "      <td>3022102505</td>\n",
       "      <td>-28800</td>\n",
       "      <td>2019-11-07</td>\n",
       "      <td>NaN</td>\n",
       "      <td>https://www.strava.com/activities/2850013230</td>\n",
       "    </tr>\n",
       "    <tr>\n",
       "      <th>1</th>\n",
       "      <td>2895327719</td>\n",
       "      <td>Run</td>\n",
       "      <td>Hike</td>\n",
       "      <td>NaN</td>\n",
       "      <td>22.11.2019 17:05:04</td>\n",
       "      <td>17.1</td>\n",
       "      <td>Afternoon Run</td>\n",
       "      <td>20.1</td>\n",
       "      <td>0.234</td>\n",
       "      <td>85.91</td>\n",
       "      <td>...</td>\n",
       "      <td>NaN</td>\n",
       "      <td>(GMT-08:00) America/Los_Angeles</td>\n",
       "      <td>0</td>\n",
       "      <td>1</td>\n",
       "      <td>3077242534</td>\n",
       "      <td>3077242534</td>\n",
       "      <td>-28800</td>\n",
       "      <td>2019-11-22</td>\n",
       "      <td>NaN</td>\n",
       "      <td>https://www.strava.com/activities/2895327719</td>\n",
       "    </tr>\n",
       "    <tr>\n",
       "      <th>2</th>\n",
       "      <td>2832492215</td>\n",
       "      <td>Run</td>\n",
       "      <td>Hike</td>\n",
       "      <td>NaN</td>\n",
       "      <td>31.10.2019 15:41:16</td>\n",
       "      <td>15.7</td>\n",
       "      <td>Afternoon Run</td>\n",
       "      <td>62.1</td>\n",
       "      <td>0.870</td>\n",
       "      <td>71.53</td>\n",
       "      <td>...</td>\n",
       "      <td>NaN</td>\n",
       "      <td>(GMT-08:00) America/Los_Angeles</td>\n",
       "      <td>0</td>\n",
       "      <td>1</td>\n",
       "      <td>3002283821</td>\n",
       "      <td>3002283821</td>\n",
       "      <td>-25200</td>\n",
       "      <td>2019-10-31</td>\n",
       "      <td>NaN</td>\n",
       "      <td>https://www.strava.com/activities/2832492215</td>\n",
       "    </tr>\n",
       "    <tr>\n",
       "      <th>3</th>\n",
       "      <td>2832492192</td>\n",
       "      <td>Run</td>\n",
       "      <td>Hike</td>\n",
       "      <td>NaN</td>\n",
       "      <td>28.10.2019 15:17:05</td>\n",
       "      <td>15.3</td>\n",
       "      <td>Afternoon Run</td>\n",
       "      <td>42.1</td>\n",
       "      <td>0.686</td>\n",
       "      <td>61.27</td>\n",
       "      <td>...</td>\n",
       "      <td>NaN</td>\n",
       "      <td>(GMT-08:00) America/Los_Angeles</td>\n",
       "      <td>0</td>\n",
       "      <td>1</td>\n",
       "      <td>3002283809</td>\n",
       "      <td>3002283809</td>\n",
       "      <td>-25200</td>\n",
       "      <td>2019-10-28</td>\n",
       "      <td>NaN</td>\n",
       "      <td>https://www.strava.com/activities/2832492192</td>\n",
       "    </tr>\n",
       "    <tr>\n",
       "      <th>4</th>\n",
       "      <td>2877878037</td>\n",
       "      <td>Run</td>\n",
       "      <td>Hike</td>\n",
       "      <td>NaN</td>\n",
       "      <td>18.11.2019 16:00:16</td>\n",
       "      <td>16.0</td>\n",
       "      <td>Afternoon Run</td>\n",
       "      <td>52.1</td>\n",
       "      <td>0.907</td>\n",
       "      <td>57.47</td>\n",
       "      <td>...</td>\n",
       "      <td>NaN</td>\n",
       "      <td>(GMT-08:00) America/Los_Angeles</td>\n",
       "      <td>0</td>\n",
       "      <td>1</td>\n",
       "      <td>3055046850</td>\n",
       "      <td>3055046850</td>\n",
       "      <td>-28800</td>\n",
       "      <td>2019-11-18</td>\n",
       "      <td>NaN</td>\n",
       "      <td>https://www.strava.com/activities/2877878037</td>\n",
       "    </tr>\n",
       "  </tbody>\n",
       "</table>\n",
       "<p>5 rows × 74 columns</p>\n",
       "</div>"
      ],
      "text/plain": [
       "           id type type_m  x_gear_name     start_date_local  x_start_h  \\\n",
       "0  2850013230  Run   Hike          NaN  07.11.2019 16:46:32       16.8   \n",
       "1  2895327719  Run   Hike          NaN  22.11.2019 17:05:04       17.1   \n",
       "2  2832492215  Run   Hike          NaN  31.10.2019 15:41:16       15.7   \n",
       "3  2832492192  Run   Hike          NaN  28.10.2019 15:17:05       15.3   \n",
       "4  2877878037  Run   Hike          NaN  18.11.2019 16:00:16       16.0   \n",
       "\n",
       "            name  x_min   x_km  x_min/km  ...  start_longitude  \\\n",
       "0  Afternoon Run   42.1  0.458     92.08  ...              NaN   \n",
       "1  Afternoon Run   20.1  0.234     85.91  ...              NaN   \n",
       "2  Afternoon Run   62.1  0.870     71.53  ...              NaN   \n",
       "3  Afternoon Run   42.1  0.686     61.27  ...              NaN   \n",
       "4  Afternoon Run   52.1  0.907     57.47  ...              NaN   \n",
       "\n",
       "                          timezone  total_photo_count  trainer   upload_id  \\\n",
       "0  (GMT-08:00) America/Los_Angeles                  0        1  3022102505   \n",
       "1  (GMT-08:00) America/Los_Angeles                  0        1  3077242534   \n",
       "2  (GMT-08:00) America/Los_Angeles                  0        1  3002283821   \n",
       "3  (GMT-08:00) America/Los_Angeles                  0        1  3002283809   \n",
       "4  (GMT-08:00) America/Los_Angeles                  0        1  3055046850   \n",
       "\n",
       "   upload_id_str  utc_offset      x_date  x_elev_%  \\\n",
       "0     3022102505      -28800  2019-11-07       NaN   \n",
       "1     3077242534      -28800  2019-11-22       NaN   \n",
       "2     3002283821      -25200  2019-10-31       NaN   \n",
       "3     3002283809      -25200  2019-10-28       NaN   \n",
       "4     3055046850      -28800  2019-11-18       NaN   \n",
       "\n",
       "                                          x_url  \n",
       "0  https://www.strava.com/activities/2850013230  \n",
       "1  https://www.strava.com/activities/2895327719  \n",
       "2  https://www.strava.com/activities/2832492215  \n",
       "3  https://www.strava.com/activities/2832492192  \n",
       "4  https://www.strava.com/activities/2877878037  \n",
       "\n",
       "[5 rows x 74 columns]"
      ]
     },
     "execution_count": 13,
     "metadata": {},
     "output_type": "execute_result"
    }
   ],
   "source": [
    "activity = pd.read_csv(os.path.join('andrew_data2.csv'))\n",
    "activity.head()"
   ]
  },
  {
   "cell_type": "code",
   "execution_count": 14,
   "metadata": {},
   "outputs": [
    {
     "data": {
      "text/html": [
       "<div>\n",
       "<style scoped>\n",
       "    .dataframe tbody tr th:only-of-type {\n",
       "        vertical-align: middle;\n",
       "    }\n",
       "\n",
       "    .dataframe tbody tr th {\n",
       "        vertical-align: top;\n",
       "    }\n",
       "\n",
       "    .dataframe thead th {\n",
       "        text-align: right;\n",
       "    }\n",
       "</style>\n",
       "<table border=\"1\" class=\"dataframe\">\n",
       "  <thead>\n",
       "    <tr style=\"text-align: right;\">\n",
       "      <th></th>\n",
       "      <th>type_m</th>\n",
       "      <th>x_start_h</th>\n",
       "      <th>x_min</th>\n",
       "      <th>average_heartrate</th>\n",
       "      <th>max_heartrate</th>\n",
       "      <th>average_cadence</th>\n",
       "    </tr>\n",
       "  </thead>\n",
       "  <tbody>\n",
       "    <tr>\n",
       "      <th>0</th>\n",
       "      <td>Hike</td>\n",
       "      <td>16.8</td>\n",
       "      <td>42.1</td>\n",
       "      <td>127.2</td>\n",
       "      <td>161.0</td>\n",
       "      <td>42.3</td>\n",
       "    </tr>\n",
       "    <tr>\n",
       "      <th>1</th>\n",
       "      <td>Hike</td>\n",
       "      <td>17.1</td>\n",
       "      <td>20.1</td>\n",
       "      <td>114.8</td>\n",
       "      <td>148.0</td>\n",
       "      <td>43.0</td>\n",
       "    </tr>\n",
       "    <tr>\n",
       "      <th>2</th>\n",
       "      <td>Hike</td>\n",
       "      <td>15.7</td>\n",
       "      <td>62.1</td>\n",
       "      <td>118.6</td>\n",
       "      <td>156.0</td>\n",
       "      <td>43.5</td>\n",
       "    </tr>\n",
       "    <tr>\n",
       "      <th>3</th>\n",
       "      <td>Hike</td>\n",
       "      <td>15.3</td>\n",
       "      <td>42.1</td>\n",
       "      <td>125.4</td>\n",
       "      <td>156.0</td>\n",
       "      <td>46.7</td>\n",
       "    </tr>\n",
       "    <tr>\n",
       "      <th>4</th>\n",
       "      <td>Hike</td>\n",
       "      <td>16.0</td>\n",
       "      <td>52.1</td>\n",
       "      <td>137.4</td>\n",
       "      <td>154.0</td>\n",
       "      <td>44.7</td>\n",
       "    </tr>\n",
       "  </tbody>\n",
       "</table>\n",
       "</div>"
      ],
      "text/plain": [
       "  type_m  x_start_h  x_min  average_heartrate  max_heartrate  average_cadence\n",
       "0   Hike       16.8   42.1              127.2          161.0             42.3\n",
       "1   Hike       17.1   20.1              114.8          148.0             43.0\n",
       "2   Hike       15.7   62.1              118.6          156.0             43.5\n",
       "3   Hike       15.3   42.1              125.4          156.0             46.7\n",
       "4   Hike       16.0   52.1              137.4          154.0             44.7"
      ]
     },
     "execution_count": 14,
     "metadata": {},
     "output_type": "execute_result"
    }
   ],
   "source": [
    "activity_clean = activity[[\"type_m\", \"x_start_h\", \"x_min\", \"average_heartrate\", \"max_heartrate\", \"average_cadence\"]]\n",
    "activity_clean.head()"
   ]
  },
  {
   "cell_type": "code",
   "execution_count": 15,
   "metadata": {},
   "outputs": [
    {
     "data": {
      "text/html": [
       "<div>\n",
       "<style scoped>\n",
       "    .dataframe tbody tr th:only-of-type {\n",
       "        vertical-align: middle;\n",
       "    }\n",
       "\n",
       "    .dataframe tbody tr th {\n",
       "        vertical-align: top;\n",
       "    }\n",
       "\n",
       "    .dataframe thead th {\n",
       "        text-align: right;\n",
       "    }\n",
       "</style>\n",
       "<table border=\"1\" class=\"dataframe\">\n",
       "  <thead>\n",
       "    <tr style=\"text-align: right;\">\n",
       "      <th></th>\n",
       "      <th>type_m</th>\n",
       "      <th>x_start_h</th>\n",
       "      <th>x_min</th>\n",
       "      <th>average_heartrate</th>\n",
       "      <th>max_heartrate</th>\n",
       "      <th>average_cadence</th>\n",
       "    </tr>\n",
       "  </thead>\n",
       "  <tbody>\n",
       "    <tr>\n",
       "      <th>0</th>\n",
       "      <td>Hike</td>\n",
       "      <td>16.8</td>\n",
       "      <td>42.1</td>\n",
       "      <td>127.2</td>\n",
       "      <td>161.0</td>\n",
       "      <td>42.3</td>\n",
       "    </tr>\n",
       "    <tr>\n",
       "      <th>1</th>\n",
       "      <td>Hike</td>\n",
       "      <td>17.1</td>\n",
       "      <td>20.1</td>\n",
       "      <td>114.8</td>\n",
       "      <td>148.0</td>\n",
       "      <td>43.0</td>\n",
       "    </tr>\n",
       "    <tr>\n",
       "      <th>2</th>\n",
       "      <td>Hike</td>\n",
       "      <td>15.7</td>\n",
       "      <td>62.1</td>\n",
       "      <td>118.6</td>\n",
       "      <td>156.0</td>\n",
       "      <td>43.5</td>\n",
       "    </tr>\n",
       "    <tr>\n",
       "      <th>3</th>\n",
       "      <td>Hike</td>\n",
       "      <td>15.3</td>\n",
       "      <td>42.1</td>\n",
       "      <td>125.4</td>\n",
       "      <td>156.0</td>\n",
       "      <td>46.7</td>\n",
       "    </tr>\n",
       "    <tr>\n",
       "      <th>4</th>\n",
       "      <td>Hike</td>\n",
       "      <td>16.0</td>\n",
       "      <td>52.1</td>\n",
       "      <td>137.4</td>\n",
       "      <td>154.0</td>\n",
       "      <td>44.7</td>\n",
       "    </tr>\n",
       "  </tbody>\n",
       "</table>\n",
       "</div>"
      ],
      "text/plain": [
       "  type_m  x_start_h  x_min  average_heartrate  max_heartrate  average_cadence\n",
       "0   Hike       16.8   42.1              127.2          161.0             42.3\n",
       "1   Hike       17.1   20.1              114.8          148.0             43.0\n",
       "2   Hike       15.7   62.1              118.6          156.0             43.5\n",
       "3   Hike       15.3   42.1              125.4          156.0             46.7\n",
       "4   Hike       16.0   52.1              137.4          154.0             44.7"
      ]
     },
     "execution_count": 15,
     "metadata": {},
     "output_type": "execute_result"
    }
   ],
   "source": [
    "data2 = activity_clean.dropna()\n",
    "data2.head()"
   ]
  },
  {
   "cell_type": "code",
   "execution_count": 16,
   "metadata": {},
   "outputs": [
    {
     "data": {
      "text/html": [
       "<div>\n",
       "<style scoped>\n",
       "    .dataframe tbody tr th:only-of-type {\n",
       "        vertical-align: middle;\n",
       "    }\n",
       "\n",
       "    .dataframe tbody tr th {\n",
       "        vertical-align: top;\n",
       "    }\n",
       "\n",
       "    .dataframe thead th {\n",
       "        text-align: right;\n",
       "    }\n",
       "</style>\n",
       "<table border=\"1\" class=\"dataframe\">\n",
       "  <thead>\n",
       "    <tr style=\"text-align: right;\">\n",
       "      <th></th>\n",
       "      <th>x_start_h</th>\n",
       "      <th>x_min</th>\n",
       "      <th>average_heartrate</th>\n",
       "      <th>max_heartrate</th>\n",
       "      <th>average_cadence</th>\n",
       "    </tr>\n",
       "  </thead>\n",
       "  <tbody>\n",
       "    <tr>\n",
       "      <th>0</th>\n",
       "      <td>16.8</td>\n",
       "      <td>42.1</td>\n",
       "      <td>127.2</td>\n",
       "      <td>161.0</td>\n",
       "      <td>42.3</td>\n",
       "    </tr>\n",
       "    <tr>\n",
       "      <th>1</th>\n",
       "      <td>17.1</td>\n",
       "      <td>20.1</td>\n",
       "      <td>114.8</td>\n",
       "      <td>148.0</td>\n",
       "      <td>43.0</td>\n",
       "    </tr>\n",
       "    <tr>\n",
       "      <th>2</th>\n",
       "      <td>15.7</td>\n",
       "      <td>62.1</td>\n",
       "      <td>118.6</td>\n",
       "      <td>156.0</td>\n",
       "      <td>43.5</td>\n",
       "    </tr>\n",
       "    <tr>\n",
       "      <th>3</th>\n",
       "      <td>15.3</td>\n",
       "      <td>42.1</td>\n",
       "      <td>125.4</td>\n",
       "      <td>156.0</td>\n",
       "      <td>46.7</td>\n",
       "    </tr>\n",
       "    <tr>\n",
       "      <th>4</th>\n",
       "      <td>16.0</td>\n",
       "      <td>52.1</td>\n",
       "      <td>137.4</td>\n",
       "      <td>154.0</td>\n",
       "      <td>44.7</td>\n",
       "    </tr>\n",
       "  </tbody>\n",
       "</table>\n",
       "</div>"
      ],
      "text/plain": [
       "   x_start_h  x_min  average_heartrate  max_heartrate  average_cadence\n",
       "0       16.8   42.1              127.2          161.0             42.3\n",
       "1       17.1   20.1              114.8          148.0             43.0\n",
       "2       15.7   62.1              118.6          156.0             43.5\n",
       "3       15.3   42.1              125.4          156.0             46.7\n",
       "4       16.0   52.1              137.4          154.0             44.7"
      ]
     },
     "execution_count": 16,
     "metadata": {},
     "output_type": "execute_result"
    }
   ],
   "source": [
    "y = data2[\"type_m\"]\n",
    "target_names = [\"Hike\", \"Elliptical\", \"Run\"]\n",
    "X = data2.drop(\"type_m\", axis=1)\n",
    "X.head()"
   ]
  },
  {
   "cell_type": "code",
   "execution_count": 17,
   "metadata": {},
   "outputs": [
    {
     "name": "stdout",
     "output_type": "stream",
     "text": [
      "(408, 5) (408,)\n"
     ]
    }
   ],
   "source": [
    "print(X.shape, y.shape)"
   ]
  },
  {
   "cell_type": "code",
   "execution_count": 18,
   "metadata": {},
   "outputs": [],
   "source": [
    "from sklearn.model_selection import train_test_split\n",
    "from sklearn.preprocessing import LabelEncoder, MinMaxScaler\n",
    "from tensorflow.keras.utils import to_categorical"
   ]
  },
  {
   "cell_type": "code",
   "execution_count": 19,
   "metadata": {},
   "outputs": [],
   "source": [
    "X_train, X_test, y_train, y_test = train_test_split(\n",
    "    X, y, random_state=1)"
   ]
  },
  {
   "cell_type": "code",
   "execution_count": 20,
   "metadata": {},
   "outputs": [],
   "source": [
    "X_scaler = MinMaxScaler().fit(X_train)\n",
    "X_train_scaled = X_scaler.transform(X_train)\n",
    "X_test_scaled = X_scaler.transform(X_test)"
   ]
  },
  {
   "cell_type": "code",
   "execution_count": 21,
   "metadata": {},
   "outputs": [],
   "source": [
    "# Step 1: Label-encode data set\n",
    "label_encoder = LabelEncoder()\n",
    "label_encoder.fit(y_train)\n",
    "encoded_y_train = label_encoder.transform(y_train)\n",
    "encoded_y_test = label_encoder.transform(y_test)"
   ]
  },
  {
   "cell_type": "code",
   "execution_count": 22,
   "metadata": {},
   "outputs": [],
   "source": [
    "# Step 2: Convert encoded labels to one-hot-encoding\n",
    "y_train_categorical = to_categorical(encoded_y_train)\n",
    "y_test_categorical = to_categorical(encoded_y_test)"
   ]
  },
  {
   "cell_type": "code",
   "execution_count": 23,
   "metadata": {},
   "outputs": [],
   "source": [
    "from tensorflow.keras.models import Sequential\n",
    "from tensorflow.keras.layers import Dense"
   ]
  },
  {
   "cell_type": "code",
   "execution_count": 24,
   "metadata": {},
   "outputs": [],
   "source": [
    "# Create model and add layers\n",
    "model = Sequential()\n",
    "model.add(Dense(units=100, activation='relu', input_dim=5))\n",
    "model.add(Dense(units=3, activation='softmax'))"
   ]
  },
  {
   "cell_type": "code",
   "execution_count": 25,
   "metadata": {},
   "outputs": [],
   "source": [
    "# Compile and fit the model\n",
    "model.compile(optimizer='adam',\n",
    "              loss='categorical_crossentropy',\n",
    "              metrics=['accuracy'])"
   ]
  },
  {
   "cell_type": "code",
   "execution_count": 26,
   "metadata": {},
   "outputs": [
    {
     "name": "stdout",
     "output_type": "stream",
     "text": [
      "Model: \"sequential\"\n",
      "_________________________________________________________________\n",
      "Layer (type)                 Output Shape              Param #   \n",
      "=================================================================\n",
      "dense (Dense)                (None, 100)               600       \n",
      "_________________________________________________________________\n",
      "dense_1 (Dense)              (None, 3)                 303       \n",
      "=================================================================\n",
      "Total params: 903\n",
      "Trainable params: 903\n",
      "Non-trainable params: 0\n",
      "_________________________________________________________________\n"
     ]
    }
   ],
   "source": [
    "model.summary()"
   ]
  },
  {
   "cell_type": "code",
   "execution_count": 27,
   "metadata": {},
   "outputs": [
    {
     "name": "stdout",
     "output_type": "stream",
     "text": [
      "Epoch 1/60\n",
      "10/10 - 0s - loss: 1.0668 - accuracy: 0.1765\n",
      "Epoch 2/60\n",
      "10/10 - 0s - loss: 0.9261 - accuracy: 0.7941\n",
      "Epoch 3/60\n",
      "10/10 - 0s - loss: 0.8009 - accuracy: 0.8039\n",
      "Epoch 4/60\n",
      "10/10 - 0s - loss: 0.6975 - accuracy: 0.8039\n",
      "Epoch 5/60\n",
      "10/10 - 0s - loss: 0.6250 - accuracy: 0.8039\n",
      "Epoch 6/60\n",
      "10/10 - 0s - loss: 0.5794 - accuracy: 0.8039\n",
      "Epoch 7/60\n",
      "10/10 - 0s - loss: 0.5542 - accuracy: 0.8039\n",
      "Epoch 8/60\n",
      "10/10 - 0s - loss: 0.5407 - accuracy: 0.8039\n",
      "Epoch 9/60\n",
      "10/10 - 0s - loss: 0.5294 - accuracy: 0.8039\n",
      "Epoch 10/60\n",
      "10/10 - 0s - loss: 0.5186 - accuracy: 0.8039\n",
      "Epoch 11/60\n",
      "10/10 - 0s - loss: 0.5087 - accuracy: 0.8039\n",
      "Epoch 12/60\n",
      "10/10 - 0s - loss: 0.4984 - accuracy: 0.8039\n",
      "Epoch 13/60\n",
      "10/10 - 0s - loss: 0.4897 - accuracy: 0.8039\n",
      "Epoch 14/60\n",
      "10/10 - 0s - loss: 0.4793 - accuracy: 0.8039\n",
      "Epoch 15/60\n",
      "10/10 - 0s - loss: 0.4702 - accuracy: 0.8039\n",
      "Epoch 16/60\n",
      "10/10 - 0s - loss: 0.4606 - accuracy: 0.8039\n",
      "Epoch 17/60\n",
      "10/10 - 0s - loss: 0.4511 - accuracy: 0.8039\n",
      "Epoch 18/60\n",
      "10/10 - 0s - loss: 0.4414 - accuracy: 0.8007\n",
      "Epoch 19/60\n",
      "10/10 - 0s - loss: 0.4327 - accuracy: 0.8007\n",
      "Epoch 20/60\n",
      "10/10 - 0s - loss: 0.4240 - accuracy: 0.8007\n",
      "Epoch 21/60\n",
      "10/10 - 0s - loss: 0.4138 - accuracy: 0.8039\n",
      "Epoch 22/60\n",
      "10/10 - 0s - loss: 0.4048 - accuracy: 0.8137\n",
      "Epoch 23/60\n",
      "10/10 - 0s - loss: 0.3963 - accuracy: 0.8170\n",
      "Epoch 24/60\n",
      "10/10 - 0s - loss: 0.3879 - accuracy: 0.8105\n",
      "Epoch 25/60\n",
      "10/10 - 0s - loss: 0.3800 - accuracy: 0.8170\n",
      "Epoch 26/60\n",
      "10/10 - 0s - loss: 0.3718 - accuracy: 0.8203\n",
      "Epoch 27/60\n",
      "10/10 - 0s - loss: 0.3651 - accuracy: 0.8235\n",
      "Epoch 28/60\n",
      "10/10 - 0s - loss: 0.3570 - accuracy: 0.8366\n",
      "Epoch 29/60\n",
      "10/10 - 0s - loss: 0.3504 - accuracy: 0.8464\n",
      "Epoch 30/60\n",
      "10/10 - 0s - loss: 0.3443 - accuracy: 0.8431\n",
      "Epoch 31/60\n",
      "10/10 - 0s - loss: 0.3371 - accuracy: 0.8529\n",
      "Epoch 32/60\n",
      "10/10 - 0s - loss: 0.3311 - accuracy: 0.8562\n",
      "Epoch 33/60\n",
      "10/10 - 0s - loss: 0.3257 - accuracy: 0.8562\n",
      "Epoch 34/60\n",
      "10/10 - 0s - loss: 0.3200 - accuracy: 0.8562\n",
      "Epoch 35/60\n",
      "10/10 - 0s - loss: 0.3155 - accuracy: 0.8660\n",
      "Epoch 36/60\n",
      "10/10 - 0s - loss: 0.3094 - accuracy: 0.8660\n",
      "Epoch 37/60\n",
      "10/10 - 0s - loss: 0.3051 - accuracy: 0.8627\n",
      "Epoch 38/60\n",
      "10/10 - 0s - loss: 0.3005 - accuracy: 0.8660\n",
      "Epoch 39/60\n",
      "10/10 - 0s - loss: 0.2970 - accuracy: 0.8627\n",
      "Epoch 40/60\n",
      "10/10 - 0s - loss: 0.2923 - accuracy: 0.8660\n",
      "Epoch 41/60\n",
      "10/10 - 0s - loss: 0.2887 - accuracy: 0.8758\n",
      "Epoch 42/60\n",
      "10/10 - 0s - loss: 0.2848 - accuracy: 0.8824\n",
      "Epoch 43/60\n",
      "10/10 - 0s - loss: 0.2828 - accuracy: 0.8856\n",
      "Epoch 44/60\n",
      "10/10 - 0s - loss: 0.2786 - accuracy: 0.8856\n",
      "Epoch 45/60\n",
      "10/10 - 0s - loss: 0.2756 - accuracy: 0.8856\n",
      "Epoch 46/60\n",
      "10/10 - 0s - loss: 0.2722 - accuracy: 0.8922\n",
      "Epoch 47/60\n",
      "10/10 - 0s - loss: 0.2698 - accuracy: 0.8987\n",
      "Epoch 48/60\n",
      "10/10 - 0s - loss: 0.2669 - accuracy: 0.8987\n",
      "Epoch 49/60\n",
      "10/10 - 0s - loss: 0.2649 - accuracy: 0.8987\n",
      "Epoch 50/60\n",
      "10/10 - 0s - loss: 0.2622 - accuracy: 0.9020\n",
      "Epoch 51/60\n",
      "10/10 - 0s - loss: 0.2599 - accuracy: 0.9085\n",
      "Epoch 52/60\n",
      "10/10 - 0s - loss: 0.2578 - accuracy: 0.9216\n",
      "Epoch 53/60\n",
      "10/10 - 0s - loss: 0.2556 - accuracy: 0.9216\n",
      "Epoch 54/60\n",
      "10/10 - 0s - loss: 0.2544 - accuracy: 0.9216\n",
      "Epoch 55/60\n",
      "10/10 - 0s - loss: 0.2513 - accuracy: 0.9248\n",
      "Epoch 56/60\n",
      "10/10 - 0s - loss: 0.2500 - accuracy: 0.9248\n",
      "Epoch 57/60\n",
      "10/10 - 0s - loss: 0.2480 - accuracy: 0.9248\n",
      "Epoch 58/60\n",
      "10/10 - 0s - loss: 0.2466 - accuracy: 0.9248\n",
      "Epoch 59/60\n",
      "10/10 - 0s - loss: 0.2450 - accuracy: 0.9281\n",
      "Epoch 60/60\n",
      "10/10 - 0s - loss: 0.2437 - accuracy: 0.9346\n"
     ]
    },
    {
     "data": {
      "text/plain": [
       "<tensorflow.python.keras.callbacks.History at 0x265b4ba2a08>"
      ]
     },
     "execution_count": 27,
     "metadata": {},
     "output_type": "execute_result"
    }
   ],
   "source": [
    "model.fit(\n",
    "    X_train_scaled,\n",
    "    y_train_categorical,\n",
    "    epochs=60,\n",
    "    shuffle=True,\n",
    "    verbose=2\n",
    ")"
   ]
  },
  {
   "cell_type": "code",
   "execution_count": 28,
   "metadata": {},
   "outputs": [
    {
     "name": "stdout",
     "output_type": "stream",
     "text": [
      "4/4 - 0s - loss: 0.2910 - accuracy: 0.9314\n",
      "Normal Neural Network - Loss: 0.29095304012298584, Accuracy: 0.9313725233078003\n"
     ]
    }
   ],
   "source": [
    "model_loss, model_accuracy = model.evaluate(\n",
    "    X_test_scaled, y_test_categorical, verbose=2)\n",
    "print(\n",
    "    f\"Normal Neural Network - Loss: {model_loss}, Accuracy: {model_accuracy}\")"
   ]
  },
  {
   "cell_type": "code",
   "execution_count": 29,
   "metadata": {},
   "outputs": [
    {
     "name": "stdout",
     "output_type": "stream",
     "text": [
      "WARNING:tensorflow:From <ipython-input-29-4db8b0f5c0b2>:1: Sequential.predict_classes (from tensorflow.python.keras.engine.sequential) is deprecated and will be removed after 2021-01-01.\n",
      "Instructions for updating:\n",
      "Please use instead:* `np.argmax(model.predict(x), axis=-1)`,   if your model does multi-class classification   (e.g. if it uses a `softmax` last-layer activation).* `(model.predict(x) > 0.5).astype(\"int32\")`,   if your model does binary classification   (e.g. if it uses a `sigmoid` last-layer activation).\n"
     ]
    }
   ],
   "source": [
    "encoded_predictions = model.predict_classes(X_test_scaled[:5])\n",
    "prediction_labels = label_encoder.inverse_transform(encoded_predictions)"
   ]
  },
  {
   "cell_type": "code",
   "execution_count": 36,
   "metadata": {},
   "outputs": [
    {
     "name": "stdout",
     "output_type": "stream",
     "text": [
      "Predicted classes: ['Hike' 'Run' 'Run' 'Run' 'Run']\n",
      "Actual Labels: ['Run', 'Run', 'Run', 'Run', 'Run']\n"
     ]
    }
   ],
   "source": [
    "print(f\"Predicted classes: {prediction_labels}\")\n",
    "print(f\"Actual Labels: {list(y_test[:5])}\")"
   ]
  },
  {
   "cell_type": "code",
   "execution_count": 39,
   "metadata": {},
   "outputs": [
    {
     "data": {
      "text/plain": [
       "array(['Hike', 'Run', 'Run', 'Run', 'Run', 'Run', 'Run', 'Run', 'Hike',\n",
       "       'Run', 'Elliptical', 'Elliptical', 'Run', 'Run', 'Run', 'Run',\n",
       "       'Elliptical', 'Hike', 'Run', 'Run', 'Run', 'Run', 'Run', 'Run',\n",
       "       'Elliptical', 'Run', 'Run', 'Run', 'Run', 'Run', 'Elliptical',\n",
       "       'Hike', 'Run', 'Run', 'Hike', 'Run', 'Run', 'Run', 'Run', 'Run',\n",
       "       'Run', 'Run', 'Run', 'Run', 'Run', 'Run', 'Run', 'Run', 'Run',\n",
       "       'Run', 'Run', 'Run', 'Run', 'Run', 'Run', 'Run', 'Hike', 'Run',\n",
       "       'Run', 'Run', 'Elliptical', 'Run', 'Run', 'Run', 'Run', 'Hike',\n",
       "       'Run', 'Run', 'Run', 'Run', 'Run', 'Run', 'Run', 'Elliptical',\n",
       "       'Elliptical', 'Run', 'Hike', 'Elliptical', 'Run', 'Run', 'Run',\n",
       "       'Run', 'Run', 'Run', 'Hike', 'Run', 'Elliptical', 'Run', 'Run',\n",
       "       'Run', 'Run', 'Run', 'Run', 'Run', 'Run', 'Run', 'Run', 'Run',\n",
       "       'Run', 'Run', 'Run', 'Run'], dtype=object)"
      ]
     },
     "execution_count": 39,
     "metadata": {},
     "output_type": "execute_result"
    }
   ],
   "source": [
    "# Calculate classification report\n",
    "from sklearn.metrics import classification_report\n",
    "encoded_predictions2 = model.predict_classes(X_test_scaled)\n",
    "prediction_labels2 = label_encoder.inverse_transform(encoded_predictions2)\n",
    "prediction_labels2"
   ]
  },
  {
   "cell_type": "code",
   "execution_count": 54,
   "metadata": {},
   "outputs": [
    {
     "name": "stdout",
     "output_type": "stream",
     "text": [
      "              precision    recall  f1-score   support\n",
      "\n",
      "        Hike       0.80      0.67      0.73        12\n",
      "  Elliptical       0.78      0.78      0.78         9\n",
      "         Run       0.96      0.99      0.98        81\n",
      "\n",
      "    accuracy                           0.93       102\n",
      "   macro avg       0.85      0.81      0.83       102\n",
      "weighted avg       0.93      0.93      0.93       102\n",
      "\n"
     ]
    }
   ],
   "source": [
    "# Calculate classification report\n",
    "from sklearn.metrics import classification_report\n",
    "print(classification_report(y_test, prediction_labels2,\n",
    "                            target_names=target_names))"
   ]
  },
  {
   "cell_type": "code",
   "execution_count": 45,
   "metadata": {},
   "outputs": [
    {
     "data": {
      "text/plain": [
       "array([[ 8,  1,  3],\n",
       "       [ 2,  7,  0],\n",
       "       [ 0,  1, 80]], dtype=int64)"
      ]
     },
     "execution_count": 45,
     "metadata": {},
     "output_type": "execute_result"
    }
   ],
   "source": [
    "from sklearn.metrics import confusion_matrix,plot_confusion_matrix\n",
    "cm = confusion_matrix(y_test,prediction_labels2)\n",
    "cm"
   ]
  },
  {
   "cell_type": "code",
   "execution_count": 50,
   "metadata": {},
   "outputs": [
    {
     "ename": "ValueError",
     "evalue": "plot_confusion_matrix only supports classifiers",
     "output_type": "error",
     "traceback": [
      "\u001b[1;31m---------------------------------------------------------------------------\u001b[0m",
      "\u001b[1;31mValueError\u001b[0m                                Traceback (most recent call last)",
      "\u001b[1;32m<ipython-input-50-cd907da0d65a>\u001b[0m in \u001b[0;36m<module>\u001b[1;34m\u001b[0m\n\u001b[1;32m----> 1\u001b[1;33m \u001b[0mplot_confusion_matrix\u001b[0m\u001b[1;33m(\u001b[0m\u001b[0mmodel\u001b[0m\u001b[1;33m,\u001b[0m\u001b[0mX_test_scaled\u001b[0m\u001b[1;33m,\u001b[0m\u001b[0my_test_categorical\u001b[0m\u001b[1;33m)\u001b[0m\u001b[1;33m\u001b[0m\u001b[1;33m\u001b[0m\u001b[0m\n\u001b[0m",
      "\u001b[1;32mC:\\ProgramData\\Anaconda3\\lib\\site-packages\\sklearn\\metrics\\_plot\\confusion_matrix.py\u001b[0m in \u001b[0;36mplot_confusion_matrix\u001b[1;34m(estimator, X, y_true, labels, sample_weight, normalize, display_labels, include_values, xticks_rotation, values_format, cmap, ax)\u001b[0m\n\u001b[0;32m    181\u001b[0m \u001b[1;33m\u001b[0m\u001b[0m\n\u001b[0;32m    182\u001b[0m     \u001b[1;32mif\u001b[0m \u001b[1;32mnot\u001b[0m \u001b[0mis_classifier\u001b[0m\u001b[1;33m(\u001b[0m\u001b[0mestimator\u001b[0m\u001b[1;33m)\u001b[0m\u001b[1;33m:\u001b[0m\u001b[1;33m\u001b[0m\u001b[1;33m\u001b[0m\u001b[0m\n\u001b[1;32m--> 183\u001b[1;33m         \u001b[1;32mraise\u001b[0m \u001b[0mValueError\u001b[0m\u001b[1;33m(\u001b[0m\u001b[1;34m\"plot_confusion_matrix only supports classifiers\"\u001b[0m\u001b[1;33m)\u001b[0m\u001b[1;33m\u001b[0m\u001b[1;33m\u001b[0m\u001b[0m\n\u001b[0m\u001b[0;32m    184\u001b[0m \u001b[1;33m\u001b[0m\u001b[0m\n\u001b[0;32m    185\u001b[0m     \u001b[0my_pred\u001b[0m \u001b[1;33m=\u001b[0m \u001b[0mestimator\u001b[0m\u001b[1;33m.\u001b[0m\u001b[0mpredict\u001b[0m\u001b[1;33m(\u001b[0m\u001b[0mX\u001b[0m\u001b[1;33m)\u001b[0m\u001b[1;33m\u001b[0m\u001b[1;33m\u001b[0m\u001b[0m\n",
      "\u001b[1;31mValueError\u001b[0m: plot_confusion_matrix only supports classifiers"
     ]
    }
   ],
   "source": [
    "plot_confusion_matrix(model,X_test_scaled,y_test)"
   ]
  },
  {
   "cell_type": "code",
   "execution_count": null,
   "metadata": {},
   "outputs": [],
   "source": []
  }
 ],
 "metadata": {
  "kernelspec": {
   "display_name": "Python 3",
   "language": "python",
   "name": "python3"
  },
  "language_info": {
   "codemirror_mode": {
    "name": "ipython",
    "version": 3
   },
   "file_extension": ".py",
   "mimetype": "text/x-python",
   "name": "python",
   "nbconvert_exporter": "python",
   "pygments_lexer": "ipython3",
   "version": "3.7.6"
  }
 },
 "nbformat": 4,
 "nbformat_minor": 4
}
